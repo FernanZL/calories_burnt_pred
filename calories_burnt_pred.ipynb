{
 "cells": [
  {
   "cell_type": "markdown",
   "id": "fdb51f38",
   "metadata": {},
   "source": [
    "# Calories Burnt Prediction"
   ]
  },
  {
   "cell_type": "markdown",
   "id": "7ed308ef",
   "metadata": {},
   "source": [
    "The goal is to predict how many calories were burned during a workout. \n",
    "\n",
    "The idea of this project is not only training a model to predict the task, but also filter data using sql commands. For that purpose, we will use duckdb in combination with pandas."
   ]
  },
  {
   "cell_type": "markdown",
   "id": "54ee74e5",
   "metadata": {},
   "source": [
    "Dataset is from the following Kaggle competition: https://www.kaggle.com/competitions/playground-series-s5e5"
   ]
  },
  {
   "cell_type": "markdown",
   "id": "899686d9",
   "metadata": {},
   "source": [
    "## Importing Libraries"
   ]
  },
  {
   "cell_type": "code",
   "execution_count": 1,
   "id": "ffdc57f3",
   "metadata": {},
   "outputs": [
    {
     "name": "stderr",
     "output_type": "stream",
     "text": [
      "c:\\Users\\Usuario\\anaconda3\\lib\\site-packages\\tqdm\\auto.py:21: TqdmWarning: IProgress not found. Please update jupyter and ipywidgets. See https://ipywidgets.readthedocs.io/en/stable/user_install.html\n",
      "  from .autonotebook import tqdm as notebook_tqdm\n"
     ]
    }
   ],
   "source": [
    "import pandas as pd\n",
    "import duckdb as db\n",
    "import seaborn as sns\n",
    "import matplotlib.pyplot as plt\n",
    "from sklearn.model_selection import train_test_split\n",
    "from sklearn.metrics import mean_squared_log_error\n",
    "import optuna as op\n",
    "import lightgbm as lgb\n",
    "from sklearn.model_selection import KFold\n",
    "import numpy as np"
   ]
  },
  {
   "cell_type": "markdown",
   "id": "c08e33c0",
   "metadata": {},
   "source": [
    "## EDA of the dataset"
   ]
  },
  {
   "cell_type": "markdown",
   "id": "ad11a74a",
   "metadata": {},
   "source": [
    "Even though we are using a Kaggle competition dataset, the objective of this project is not to submit predictions to the competition. Therefore, we are just gonna stick to the train dataset, which contains the values of the target."
   ]
  },
  {
   "cell_type": "markdown",
   "id": "bb7224b1",
   "metadata": {},
   "source": [
    "We start then reading the data."
   ]
  },
  {
   "cell_type": "code",
   "execution_count": 2,
   "id": "13caa242",
   "metadata": {},
   "outputs": [],
   "source": [
    "df = pd.read_csv('train.csv')"
   ]
  },
  {
   "cell_type": "code",
   "execution_count": 3,
   "id": "6f2a26d2",
   "metadata": {},
   "outputs": [
    {
     "data": {
      "text/html": [
       "<div>\n",
       "<style scoped>\n",
       "    .dataframe tbody tr th:only-of-type {\n",
       "        vertical-align: middle;\n",
       "    }\n",
       "\n",
       "    .dataframe tbody tr th {\n",
       "        vertical-align: top;\n",
       "    }\n",
       "\n",
       "    .dataframe thead th {\n",
       "        text-align: right;\n",
       "    }\n",
       "</style>\n",
       "<table border=\"1\" class=\"dataframe\">\n",
       "  <thead>\n",
       "    <tr style=\"text-align: right;\">\n",
       "      <th></th>\n",
       "      <th>id</th>\n",
       "      <th>Sex</th>\n",
       "      <th>Age</th>\n",
       "      <th>Height</th>\n",
       "      <th>Weight</th>\n",
       "      <th>Duration</th>\n",
       "      <th>Heart_Rate</th>\n",
       "      <th>Body_Temp</th>\n",
       "      <th>Calories</th>\n",
       "    </tr>\n",
       "  </thead>\n",
       "  <tbody>\n",
       "    <tr>\n",
       "      <th>0</th>\n",
       "      <td>0</td>\n",
       "      <td>male</td>\n",
       "      <td>36</td>\n",
       "      <td>189.0</td>\n",
       "      <td>82.0</td>\n",
       "      <td>26.0</td>\n",
       "      <td>101.0</td>\n",
       "      <td>41.0</td>\n",
       "      <td>150.0</td>\n",
       "    </tr>\n",
       "    <tr>\n",
       "      <th>1</th>\n",
       "      <td>1</td>\n",
       "      <td>female</td>\n",
       "      <td>64</td>\n",
       "      <td>163.0</td>\n",
       "      <td>60.0</td>\n",
       "      <td>8.0</td>\n",
       "      <td>85.0</td>\n",
       "      <td>39.7</td>\n",
       "      <td>34.0</td>\n",
       "    </tr>\n",
       "    <tr>\n",
       "      <th>2</th>\n",
       "      <td>2</td>\n",
       "      <td>female</td>\n",
       "      <td>51</td>\n",
       "      <td>161.0</td>\n",
       "      <td>64.0</td>\n",
       "      <td>7.0</td>\n",
       "      <td>84.0</td>\n",
       "      <td>39.8</td>\n",
       "      <td>29.0</td>\n",
       "    </tr>\n",
       "    <tr>\n",
       "      <th>3</th>\n",
       "      <td>3</td>\n",
       "      <td>male</td>\n",
       "      <td>20</td>\n",
       "      <td>192.0</td>\n",
       "      <td>90.0</td>\n",
       "      <td>25.0</td>\n",
       "      <td>105.0</td>\n",
       "      <td>40.7</td>\n",
       "      <td>140.0</td>\n",
       "    </tr>\n",
       "    <tr>\n",
       "      <th>4</th>\n",
       "      <td>4</td>\n",
       "      <td>female</td>\n",
       "      <td>38</td>\n",
       "      <td>166.0</td>\n",
       "      <td>61.0</td>\n",
       "      <td>25.0</td>\n",
       "      <td>102.0</td>\n",
       "      <td>40.6</td>\n",
       "      <td>146.0</td>\n",
       "    </tr>\n",
       "    <tr>\n",
       "      <th>...</th>\n",
       "      <td>...</td>\n",
       "      <td>...</td>\n",
       "      <td>...</td>\n",
       "      <td>...</td>\n",
       "      <td>...</td>\n",
       "      <td>...</td>\n",
       "      <td>...</td>\n",
       "      <td>...</td>\n",
       "      <td>...</td>\n",
       "    </tr>\n",
       "    <tr>\n",
       "      <th>749995</th>\n",
       "      <td>749995</td>\n",
       "      <td>male</td>\n",
       "      <td>28</td>\n",
       "      <td>193.0</td>\n",
       "      <td>97.0</td>\n",
       "      <td>30.0</td>\n",
       "      <td>114.0</td>\n",
       "      <td>40.9</td>\n",
       "      <td>230.0</td>\n",
       "    </tr>\n",
       "    <tr>\n",
       "      <th>749996</th>\n",
       "      <td>749996</td>\n",
       "      <td>female</td>\n",
       "      <td>64</td>\n",
       "      <td>165.0</td>\n",
       "      <td>63.0</td>\n",
       "      <td>18.0</td>\n",
       "      <td>92.0</td>\n",
       "      <td>40.5</td>\n",
       "      <td>96.0</td>\n",
       "    </tr>\n",
       "    <tr>\n",
       "      <th>749997</th>\n",
       "      <td>749997</td>\n",
       "      <td>male</td>\n",
       "      <td>60</td>\n",
       "      <td>162.0</td>\n",
       "      <td>67.0</td>\n",
       "      <td>29.0</td>\n",
       "      <td>113.0</td>\n",
       "      <td>40.9</td>\n",
       "      <td>221.0</td>\n",
       "    </tr>\n",
       "    <tr>\n",
       "      <th>749998</th>\n",
       "      <td>749998</td>\n",
       "      <td>male</td>\n",
       "      <td>45</td>\n",
       "      <td>182.0</td>\n",
       "      <td>91.0</td>\n",
       "      <td>17.0</td>\n",
       "      <td>102.0</td>\n",
       "      <td>40.3</td>\n",
       "      <td>109.0</td>\n",
       "    </tr>\n",
       "    <tr>\n",
       "      <th>749999</th>\n",
       "      <td>749999</td>\n",
       "      <td>female</td>\n",
       "      <td>39</td>\n",
       "      <td>171.0</td>\n",
       "      <td>65.0</td>\n",
       "      <td>19.0</td>\n",
       "      <td>97.0</td>\n",
       "      <td>40.6</td>\n",
       "      <td>103.0</td>\n",
       "    </tr>\n",
       "  </tbody>\n",
       "</table>\n",
       "<p>750000 rows × 9 columns</p>\n",
       "</div>"
      ],
      "text/plain": [
       "            id     Sex  Age  Height  Weight  Duration  Heart_Rate  Body_Temp  \\\n",
       "0            0    male   36   189.0    82.0      26.0       101.0       41.0   \n",
       "1            1  female   64   163.0    60.0       8.0        85.0       39.7   \n",
       "2            2  female   51   161.0    64.0       7.0        84.0       39.8   \n",
       "3            3    male   20   192.0    90.0      25.0       105.0       40.7   \n",
       "4            4  female   38   166.0    61.0      25.0       102.0       40.6   \n",
       "...        ...     ...  ...     ...     ...       ...         ...        ...   \n",
       "749995  749995    male   28   193.0    97.0      30.0       114.0       40.9   \n",
       "749996  749996  female   64   165.0    63.0      18.0        92.0       40.5   \n",
       "749997  749997    male   60   162.0    67.0      29.0       113.0       40.9   \n",
       "749998  749998    male   45   182.0    91.0      17.0       102.0       40.3   \n",
       "749999  749999  female   39   171.0    65.0      19.0        97.0       40.6   \n",
       "\n",
       "        Calories  \n",
       "0          150.0  \n",
       "1           34.0  \n",
       "2           29.0  \n",
       "3          140.0  \n",
       "4          146.0  \n",
       "...          ...  \n",
       "749995     230.0  \n",
       "749996      96.0  \n",
       "749997     221.0  \n",
       "749998     109.0  \n",
       "749999     103.0  \n",
       "\n",
       "[750000 rows x 9 columns]"
      ]
     },
     "execution_count": 3,
     "metadata": {},
     "output_type": "execute_result"
    }
   ],
   "source": [
    "df"
   ]
  },
  {
   "cell_type": "code",
   "execution_count": 5,
   "id": "2b43bcd1",
   "metadata": {},
   "outputs": [],
   "source": [
    "df = df.drop(columns=['id'])"
   ]
  },
  {
   "cell_type": "markdown",
   "id": "00d39977",
   "metadata": {},
   "source": [
    "Let's check if there are any null values."
   ]
  },
  {
   "cell_type": "code",
   "execution_count": 11,
   "id": "5e466892",
   "metadata": {},
   "outputs": [
    {
     "data": {
      "text/plain": [
       "Sex           0\n",
       "Age           0\n",
       "Height        0\n",
       "Weight        0\n",
       "Duration      0\n",
       "Heart_Rate    0\n",
       "Body_Temp     0\n",
       "Calories      0\n",
       "dtype: int64"
      ]
     },
     "execution_count": 11,
     "metadata": {},
     "output_type": "execute_result"
    }
   ],
   "source": [
    "df.isnull().sum()"
   ]
  },
  {
   "cell_type": "markdown",
   "id": "be5208b9",
   "metadata": {},
   "source": [
    "Now let's see some basic stats of the data."
   ]
  },
  {
   "cell_type": "code",
   "execution_count": 6,
   "id": "fcb43357",
   "metadata": {},
   "outputs": [
    {
     "data": {
      "text/html": [
       "<div>\n",
       "<style scoped>\n",
       "    .dataframe tbody tr th:only-of-type {\n",
       "        vertical-align: middle;\n",
       "    }\n",
       "\n",
       "    .dataframe tbody tr th {\n",
       "        vertical-align: top;\n",
       "    }\n",
       "\n",
       "    .dataframe thead th {\n",
       "        text-align: right;\n",
       "    }\n",
       "</style>\n",
       "<table border=\"1\" class=\"dataframe\">\n",
       "  <thead>\n",
       "    <tr style=\"text-align: right;\">\n",
       "      <th></th>\n",
       "      <th>Age</th>\n",
       "      <th>Height</th>\n",
       "      <th>Weight</th>\n",
       "      <th>Duration</th>\n",
       "      <th>Heart_Rate</th>\n",
       "      <th>Body_Temp</th>\n",
       "      <th>Calories</th>\n",
       "    </tr>\n",
       "  </thead>\n",
       "  <tbody>\n",
       "    <tr>\n",
       "      <th>count</th>\n",
       "      <td>750000.000000</td>\n",
       "      <td>750000.000000</td>\n",
       "      <td>750000.000000</td>\n",
       "      <td>750000.000000</td>\n",
       "      <td>750000.000000</td>\n",
       "      <td>750000.000000</td>\n",
       "      <td>750000.000000</td>\n",
       "    </tr>\n",
       "    <tr>\n",
       "      <th>mean</th>\n",
       "      <td>41.420404</td>\n",
       "      <td>174.697685</td>\n",
       "      <td>75.145668</td>\n",
       "      <td>15.421015</td>\n",
       "      <td>95.483995</td>\n",
       "      <td>40.036253</td>\n",
       "      <td>88.282781</td>\n",
       "    </tr>\n",
       "    <tr>\n",
       "      <th>std</th>\n",
       "      <td>15.175049</td>\n",
       "      <td>12.824496</td>\n",
       "      <td>13.982704</td>\n",
       "      <td>8.354095</td>\n",
       "      <td>9.449845</td>\n",
       "      <td>0.779875</td>\n",
       "      <td>62.395349</td>\n",
       "    </tr>\n",
       "    <tr>\n",
       "      <th>min</th>\n",
       "      <td>20.000000</td>\n",
       "      <td>126.000000</td>\n",
       "      <td>36.000000</td>\n",
       "      <td>1.000000</td>\n",
       "      <td>67.000000</td>\n",
       "      <td>37.100000</td>\n",
       "      <td>1.000000</td>\n",
       "    </tr>\n",
       "    <tr>\n",
       "      <th>25%</th>\n",
       "      <td>28.000000</td>\n",
       "      <td>164.000000</td>\n",
       "      <td>63.000000</td>\n",
       "      <td>8.000000</td>\n",
       "      <td>88.000000</td>\n",
       "      <td>39.600000</td>\n",
       "      <td>34.000000</td>\n",
       "    </tr>\n",
       "    <tr>\n",
       "      <th>50%</th>\n",
       "      <td>40.000000</td>\n",
       "      <td>174.000000</td>\n",
       "      <td>74.000000</td>\n",
       "      <td>15.000000</td>\n",
       "      <td>95.000000</td>\n",
       "      <td>40.300000</td>\n",
       "      <td>77.000000</td>\n",
       "    </tr>\n",
       "    <tr>\n",
       "      <th>75%</th>\n",
       "      <td>52.000000</td>\n",
       "      <td>185.000000</td>\n",
       "      <td>87.000000</td>\n",
       "      <td>23.000000</td>\n",
       "      <td>103.000000</td>\n",
       "      <td>40.700000</td>\n",
       "      <td>136.000000</td>\n",
       "    </tr>\n",
       "    <tr>\n",
       "      <th>max</th>\n",
       "      <td>79.000000</td>\n",
       "      <td>222.000000</td>\n",
       "      <td>132.000000</td>\n",
       "      <td>30.000000</td>\n",
       "      <td>128.000000</td>\n",
       "      <td>41.500000</td>\n",
       "      <td>314.000000</td>\n",
       "    </tr>\n",
       "  </tbody>\n",
       "</table>\n",
       "</div>"
      ],
      "text/plain": [
       "                 Age         Height         Weight       Duration  \\\n",
       "count  750000.000000  750000.000000  750000.000000  750000.000000   \n",
       "mean       41.420404     174.697685      75.145668      15.421015   \n",
       "std        15.175049      12.824496      13.982704       8.354095   \n",
       "min        20.000000     126.000000      36.000000       1.000000   \n",
       "25%        28.000000     164.000000      63.000000       8.000000   \n",
       "50%        40.000000     174.000000      74.000000      15.000000   \n",
       "75%        52.000000     185.000000      87.000000      23.000000   \n",
       "max        79.000000     222.000000     132.000000      30.000000   \n",
       "\n",
       "          Heart_Rate      Body_Temp       Calories  \n",
       "count  750000.000000  750000.000000  750000.000000  \n",
       "mean       95.483995      40.036253      88.282781  \n",
       "std         9.449845       0.779875      62.395349  \n",
       "min        67.000000      37.100000       1.000000  \n",
       "25%        88.000000      39.600000      34.000000  \n",
       "50%        95.000000      40.300000      77.000000  \n",
       "75%       103.000000      40.700000     136.000000  \n",
       "max       128.000000      41.500000     314.000000  "
      ]
     },
     "execution_count": 6,
     "metadata": {},
     "output_type": "execute_result"
    }
   ],
   "source": [
    "df.describe()"
   ]
  },
  {
   "cell_type": "code",
   "execution_count": 8,
   "id": "7285849a",
   "metadata": {},
   "outputs": [
    {
     "data": {
      "text/plain": [
       "Sex\n",
       "female    375721\n",
       "male      374279\n",
       "Name: count, dtype: int64"
      ]
     },
     "execution_count": 8,
     "metadata": {},
     "output_type": "execute_result"
    }
   ],
   "source": [
    "df['Sex'].value_counts()"
   ]
  },
  {
   "cell_type": "markdown",
   "id": "08524dce",
   "metadata": {},
   "source": [
    "It seems we have a pretty balance data in terms of the sex of the participants."
   ]
  },
  {
   "cell_type": "markdown",
   "id": "337d3971",
   "metadata": {},
   "source": [
    "Now, in order to continue analyzing, let's convert the sex to numerical values."
   ]
  },
  {
   "cell_type": "code",
   "execution_count": 13,
   "id": "624a91a7",
   "metadata": {},
   "outputs": [],
   "source": [
    "num_df = df.copy()\n",
    "num_df['Sex'] = num_df['Sex'].map({'male': 0 , 'female': 1})"
   ]
  },
  {
   "cell_type": "markdown",
   "id": "3fd7a1ad",
   "metadata": {},
   "source": [
    "Let's see if there's correlation between the variables, and see if some features are more correlated to the target."
   ]
  },
  {
   "cell_type": "code",
   "execution_count": 14,
   "id": "e71efd93",
   "metadata": {},
   "outputs": [
    {
     "data": {
      "image/png": "[encoded data removed]",
      "text/plain": [
       "<Figure size 640x480 with 2 Axes>"
      ]
     },
     "metadata": {},
     "output_type": "display_data"
    }
   ],
   "source": [
    "sns.heatmap(num_df.corr(), cmap='coolwarm')\n",
    "plt.show()"
   ]
  },
  {
   "cell_type": "markdown",
   "id": "52e27fd0",
   "metadata": {},
   "source": [
    "As we can see, the duration of the workout, the heart rate and body temp during it seem to be more correlated to the calories expend, which make sense."
   ]
  },
  {
   "cell_type": "markdown",
   "id": "086e1614",
   "metadata": {},
   "source": [
    "We can also see if women or men were expending more calories in this data."
   ]
  },
  {
   "cell_type": "code",
   "execution_count": null,
   "id": "a8577779",
   "metadata": {},
   "outputs": [
    {
     "data": {
      "image/png": "[encoded data removed]",
      "text/plain": [
       "<Figure size 640x480 with 1 Axes>"
      ]
     },
     "metadata": {},
     "output_type": "display_data"
    }
   ],
   "source": [
    "ax = sns.boxplot(x='Sex', y='Calories', data=df, showmeans=True)\n",
    "\n",
    "ax.set_xticklabels([label.get_text().capitalize() for label in ax.get_xticklabels()])\n",
    "\n",
    "mean_values = df.groupby('Sex')['Calories'].mean()\n",
    "\n",
    "for i, sex in enumerate(mean_values.index):\n",
    "    mean = mean_values[sex]\n",
    "    ax.text(i, mean, f'{mean:.1f}', color='blue', ha='center', va='bottom')\n",
    "\n",
    "plt.title('Calorie Expenditure by Sex with Mean')\n",
    "plt.show()"
   ]
  },
  {
   "cell_type": "markdown",
   "id": "5368b6cc",
   "metadata": {},
   "source": [
    "So, we can see the mean and median are higher in females, but the highest values were reached in men."
   ]
  },
  {
   "cell_type": "markdown",
   "id": "1f424795",
   "metadata": {},
   "source": [
    "## Filtering the data"
   ]
  },
  {
   "cell_type": "markdown",
   "id": "973cf7e5",
   "metadata": {},
   "source": [
    "Based on the correlation matrix, we will train our model using the features that showed the most correlation with the target. We also be focusing our attention on male individuals and considering the workouts whose calories expenditure and duration were between the first and third quartiles."
   ]
  },
  {
   "cell_type": "code",
   "execution_count": 15,
   "id": "faf410cf",
   "metadata": {},
   "outputs": [],
   "source": [
    "part_df = db.query(\"SELECT Duration, Heart_Rate, Body_Temp, Calories FROM num_df WHERE Sex == 0 AND Duration BETWEEN 8 AND 23 AND Calories BETWEEN 34 AND 136 ORDER BY Duration\").to_df()"
   ]
  },
  {
   "cell_type": "code",
   "execution_count": 16,
   "id": "5ba3480d",
   "metadata": {},
   "outputs": [
    {
     "data": {
      "text/html": [
       "<div>\n",
       "<style scoped>\n",
       "    .dataframe tbody tr th:only-of-type {\n",
       "        vertical-align: middle;\n",
       "    }\n",
       "\n",
       "    .dataframe tbody tr th {\n",
       "        vertical-align: top;\n",
       "    }\n",
       "\n",
       "    .dataframe thead th {\n",
       "        text-align: right;\n",
       "    }\n",
       "</style>\n",
       "<table border=\"1\" class=\"dataframe\">\n",
       "  <thead>\n",
       "    <tr style=\"text-align: right;\">\n",
       "      <th></th>\n",
       "      <th>Duration</th>\n",
       "      <th>Heart_Rate</th>\n",
       "      <th>Body_Temp</th>\n",
       "      <th>Calories</th>\n",
       "    </tr>\n",
       "  </thead>\n",
       "  <tbody>\n",
       "    <tr>\n",
       "      <th>0</th>\n",
       "      <td>8.0</td>\n",
       "      <td>86.0</td>\n",
       "      <td>39.5</td>\n",
       "      <td>34.0</td>\n",
       "    </tr>\n",
       "    <tr>\n",
       "      <th>1</th>\n",
       "      <td>8.0</td>\n",
       "      <td>98.0</td>\n",
       "      <td>39.9</td>\n",
       "      <td>43.0</td>\n",
       "    </tr>\n",
       "    <tr>\n",
       "      <th>2</th>\n",
       "      <td>8.0</td>\n",
       "      <td>90.0</td>\n",
       "      <td>39.7</td>\n",
       "      <td>44.0</td>\n",
       "    </tr>\n",
       "    <tr>\n",
       "      <th>3</th>\n",
       "      <td>8.0</td>\n",
       "      <td>89.0</td>\n",
       "      <td>39.6</td>\n",
       "      <td>45.0</td>\n",
       "    </tr>\n",
       "    <tr>\n",
       "      <th>4</th>\n",
       "      <td>8.0</td>\n",
       "      <td>98.0</td>\n",
       "      <td>39.6</td>\n",
       "      <td>43.0</td>\n",
       "    </tr>\n",
       "    <tr>\n",
       "      <th>...</th>\n",
       "      <td>...</td>\n",
       "      <td>...</td>\n",
       "      <td>...</td>\n",
       "      <td>...</td>\n",
       "    </tr>\n",
       "    <tr>\n",
       "      <th>170415</th>\n",
       "      <td>23.0</td>\n",
       "      <td>102.0</td>\n",
       "      <td>41.0</td>\n",
       "      <td>127.0</td>\n",
       "    </tr>\n",
       "    <tr>\n",
       "      <th>170416</th>\n",
       "      <td>23.0</td>\n",
       "      <td>100.0</td>\n",
       "      <td>40.9</td>\n",
       "      <td>125.0</td>\n",
       "    </tr>\n",
       "    <tr>\n",
       "      <th>170417</th>\n",
       "      <td>23.0</td>\n",
       "      <td>102.0</td>\n",
       "      <td>40.6</td>\n",
       "      <td>116.0</td>\n",
       "    </tr>\n",
       "    <tr>\n",
       "      <th>170418</th>\n",
       "      <td>23.0</td>\n",
       "      <td>108.0</td>\n",
       "      <td>40.9</td>\n",
       "      <td>131.0</td>\n",
       "    </tr>\n",
       "    <tr>\n",
       "      <th>170419</th>\n",
       "      <td>23.0</td>\n",
       "      <td>101.0</td>\n",
       "      <td>40.4</td>\n",
       "      <td>118.0</td>\n",
       "    </tr>\n",
       "  </tbody>\n",
       "</table>\n",
       "<p>170420 rows × 4 columns</p>\n",
       "</div>"
      ],
      "text/plain": [
       "        Duration  Heart_Rate  Body_Temp  Calories\n",
       "0            8.0        86.0       39.5      34.0\n",
       "1            8.0        98.0       39.9      43.0\n",
       "2            8.0        90.0       39.7      44.0\n",
       "3            8.0        89.0       39.6      45.0\n",
       "4            8.0        98.0       39.6      43.0\n",
       "...          ...         ...        ...       ...\n",
       "170415      23.0       102.0       41.0     127.0\n",
       "170416      23.0       100.0       40.9     125.0\n",
       "170417      23.0       102.0       40.6     116.0\n",
       "170418      23.0       108.0       40.9     131.0\n",
       "170419      23.0       101.0       40.4     118.0\n",
       "\n",
       "[170420 rows x 4 columns]"
      ]
     },
     "execution_count": 16,
     "metadata": {},
     "output_type": "execute_result"
    }
   ],
   "source": [
    "part_df"
   ]
  },
  {
   "cell_type": "markdown",
   "id": "92772f9a",
   "metadata": {},
   "source": [
    "## Training the model"
   ]
  },
  {
   "cell_type": "markdown",
   "id": "4c61003f",
   "metadata": {},
   "source": [
    "We will train a Lightgbm regression model, optimizing it with optuna and using cross validation in the process to avoid overfitting. We will evaluate the performance of the model with Root Mean Squared Logarithmic Error, since that is used on the competition."
   ]
  },
  {
   "cell_type": "code",
   "execution_count": 17,
   "id": "2dd84538",
   "metadata": {},
   "outputs": [],
   "source": [
    "X = part_df.copy()\n",
    "y =X.pop('Calories')"
   ]
  },
  {
   "cell_type": "code",
   "execution_count": 18,
   "id": "910ab644",
   "metadata": {},
   "outputs": [],
   "source": [
    "X_train, X_test, y_train, y_test = train_test_split(X, y, random_state=1 )"
   ]
  },
  {
   "cell_type": "code",
   "execution_count": 19,
   "id": "fb350538",
   "metadata": {},
   "outputs": [
    {
     "name": "stderr",
     "output_type": "stream",
     "text": [
      "[I 2025-07-11 12:12:18,023] A new study created in memory with name: no-name-266bf5b5-70ef-48ba-b8c3-09e9db790b4d\n",
      "[I 2025-07-11 12:12:19,232] Trial 0 finished with value: 0.14072875720120376 and parameters: {'learning_rate': 0.10528619521548163, 'num_leaves': 43, 'max_depth': 9, 'min_data_in_leaf': 12, 'lambda_l1': 0.76097037212631, 'lambda_l2': 2.732500874968092e-06, 'feature_fraction': 0.6725134741653053}. Best is trial 0 with value: 0.14072875720120376.\n",
      "[I 2025-07-11 12:12:20,327] Trial 1 finished with value: 0.13940087673960433 and parameters: {'learning_rate': 0.026241774315093253, 'num_leaves': 60, 'max_depth': 10, 'min_data_in_leaf': 47, 'lambda_l1': 0.07624680631240613, 'lambda_l2': 6.880032082416674e-08, 'feature_fraction': 0.927100047120572}. Best is trial 1 with value: 0.13940087673960433.\n",
      "[I 2025-07-11 12:12:21,042] Trial 2 finished with value: 0.16595392908899675 and parameters: {'learning_rate': 0.014888799293150574, 'num_leaves': 44, 'max_depth': 5, 'min_data_in_leaf': 41, 'lambda_l1': 0.002558215773582416, 'lambda_l2': 1.3142234220262548e-05, 'feature_fraction': 0.9553796012565885}. Best is trial 1 with value: 0.13940087673960433.\n",
      "[I 2025-07-11 12:12:21,709] Trial 3 finished with value: 0.15040425222012466 and parameters: {'learning_rate': 0.047820832715087, 'num_leaves': 22, 'max_depth': 6, 'min_data_in_leaf': 49, 'lambda_l1': 5.590381681981638, 'lambda_l2': 1.135282100964298e-07, 'feature_fraction': 0.7895799182012183}. Best is trial 1 with value: 0.13940087673960433.\n",
      "[I 2025-07-11 12:12:22,581] Trial 4 finished with value: 0.14138114745708744 and parameters: {'learning_rate': 0.0983553343481435, 'num_leaves': 44, 'max_depth': 10, 'min_data_in_leaf': 50, 'lambda_l1': 2.7979678531069813e-05, 'lambda_l2': 0.022624422496195888, 'feature_fraction': 0.8084705916276853}. Best is trial 1 with value: 0.13940087673960433.\n",
      "[I 2025-07-11 12:12:23,509] Trial 5 finished with value: 0.15061834589513326 and parameters: {'learning_rate': 0.04701585338190076, 'num_leaves': 49, 'max_depth': 9, 'min_data_in_leaf': 18, 'lambda_l1': 0.0018411373745810013, 'lambda_l2': 2.196650725303729, 'feature_fraction': 0.7696722181011945}. Best is trial 1 with value: 0.13940087673960433.\n",
      "[I 2025-07-11 12:12:24,382] Trial 6 finished with value: 0.1941115917895746 and parameters: {'learning_rate': 0.013263811940191701, 'num_leaves': 54, 'max_depth': 6, 'min_data_in_leaf': 37, 'lambda_l1': 1.7785102334226217, 'lambda_l2': 0.0025868852531545287, 'feature_fraction': 0.6789656334829143}. Best is trial 1 with value: 0.13940087673960433.\n",
      "[I 2025-07-11 12:12:25,445] Trial 7 finished with value: 0.1373669731912932 and parameters: {'learning_rate': 0.16774065550400438, 'num_leaves': 97, 'max_depth': 8, 'min_data_in_leaf': 12, 'lambda_l1': 1.0509445939303737e-05, 'lambda_l2': 0.004551382001169677, 'feature_fraction': 0.7753420784301831}. Best is trial 7 with value: 0.1373669731912932.\n",
      "[I 2025-07-11 12:12:26,343] Trial 8 finished with value: 0.1353638864575162 and parameters: {'learning_rate': 0.09563322768618958, 'num_leaves': 74, 'max_depth': 8, 'min_data_in_leaf': 17, 'lambda_l1': 6.320735721352981e-05, 'lambda_l2': 0.00037585427802510165, 'feature_fraction': 0.8492031973938161}. Best is trial 8 with value: 0.1353638864575162.\n",
      "[I 2025-07-11 12:12:27,323] Trial 9 finished with value: 0.13525515522990228 and parameters: {'learning_rate': 0.05037204488670513, 'num_leaves': 78, 'max_depth': 8, 'min_data_in_leaf': 34, 'lambda_l1': 8.937481707785021e-07, 'lambda_l2': 9.70979500940638, 'feature_fraction': 0.9177037111698944}. Best is trial 9 with value: 0.13525515522990228.\n",
      "[I 2025-07-11 12:12:28,337] Trial 10 finished with value: 0.13813084322343977 and parameters: {'learning_rate': 0.028261945824452024, 'num_leaves': 83, 'max_depth': 7, 'min_data_in_leaf': 29, 'lambda_l1': 6.72529199218961e-08, 'lambda_l2': 3.3595696729423867, 'feature_fraction': 0.8909824107901813}. Best is trial 9 with value: 0.13525515522990228.\n",
      "[I 2025-07-11 12:12:28,807] Trial 11 finished with value: 0.13540403239036217 and parameters: {'learning_rate': 0.07874209837156963, 'num_leaves': 78, 'max_depth': 3, 'min_data_in_leaf': 26, 'lambda_l1': 1.197581638008767e-07, 'lambda_l2': 0.1345837222206132, 'feature_fraction': 0.9981360906022722}. Best is trial 9 with value: 0.13525515522990228.\n",
      "[I 2025-07-11 12:12:29,706] Trial 12 finished with value: 0.13555495844807086 and parameters: {'learning_rate': 0.17291968437777863, 'num_leaves': 74, 'max_depth': 8, 'min_data_in_leaf': 23, 'lambda_l1': 3.7178827147254483e-06, 'lambda_l2': 5.8907606451261825e-05, 'feature_fraction': 0.850134693565447}. Best is trial 9 with value: 0.13525515522990228.\n",
      "[I 2025-07-11 12:12:30,742] Trial 13 finished with value: 0.13527245600295218 and parameters: {'learning_rate': 0.07158371564511193, 'num_leaves': 93, 'max_depth': 8, 'min_data_in_leaf': 34, 'lambda_l1': 1.2304020474898932e-06, 'lambda_l2': 0.0003688814044579438, 'feature_fraction': 0.8672271713854133}. Best is trial 9 with value: 0.13525515522990228.\n",
      "[I 2025-07-11 12:12:31,354] Trial 14 finished with value: 0.14705695986522788 and parameters: {'learning_rate': 0.06401443205316638, 'num_leaves': 99, 'max_depth': 4, 'min_data_in_leaf': 36, 'lambda_l1': 6.461326813556371e-07, 'lambda_l2': 0.26318501300708064, 'feature_fraction': 0.6019781612062819}. Best is trial 9 with value: 0.13525515522990228.\n",
      "[I 2025-07-11 12:12:32,384] Trial 15 finished with value: 0.1373611271705421 and parameters: {'learning_rate': 0.029905560605466956, 'num_leaves': 89, 'max_depth': 7, 'min_data_in_leaf': 34, 'lambda_l1': 1.7237143004198445e-08, 'lambda_l2': 1.8957728662325935e-06, 'feature_fraction': 0.908244599684319}. Best is trial 9 with value: 0.13525515522990228.\n",
      "[I 2025-07-11 12:12:33,340] Trial 16 finished with value: 0.1351887054674919 and parameters: {'learning_rate': 0.061160294909483034, 'num_leaves': 67, 'max_depth': 9, 'min_data_in_leaf': 40, 'lambda_l1': 1.2538895112294893e-06, 'lambda_l2': 0.00045569689139000874, 'feature_fraction': 0.989254314800404}. Best is trial 16 with value: 0.1351887054674919.\n",
      "[I 2025-07-11 12:12:34,301] Trial 17 finished with value: 0.13588120595986117 and parameters: {'learning_rate': 0.036808131940086995, 'num_leaves': 67, 'max_depth': 9, 'min_data_in_leaf': 38, 'lambda_l1': 0.0002642816647456454, 'lambda_l2': 7.772100587519259, 'feature_fraction': 0.9939852166671309}. Best is trial 16 with value: 0.1351887054674919.\n",
      "[I 2025-07-11 12:12:35,301] Trial 18 finished with value: 0.14803508581152985 and parameters: {'learning_rate': 0.019812299617153223, 'num_leaves': 63, 'max_depth': 10, 'min_data_in_leaf': 42, 'lambda_l1': 4.0860043569666706e-07, 'lambda_l2': 0.18189618943416008, 'feature_fraction': 0.9524289116733018}. Best is trial 16 with value: 0.1351887054674919.\n",
      "[I 2025-07-11 12:12:36,311] Trial 19 finished with value: 0.13523560357524494 and parameters: {'learning_rate': 0.05544814723361819, 'num_leaves': 85, 'max_depth': 7, 'min_data_in_leaf': 30, 'lambda_l1': 1.5115671104969268e-08, 'lambda_l2': 0.013891415558659954, 'feature_fraction': 0.9518971690373997}. Best is trial 16 with value: 0.1351887054674919.\n",
      "[I 2025-07-11 12:12:36,951] Trial 20 finished with value: 0.13512374756891263 and parameters: {'learning_rate': 0.1331155854742072, 'num_leaves': 68, 'max_depth': 5, 'min_data_in_leaf': 44, 'lambda_l1': 1.1316646145586166e-08, 'lambda_l2': 0.00395759980960347, 'feature_fraction': 0.9571572916585745}. Best is trial 20 with value: 0.13512374756891263.\n",
      "[I 2025-07-11 12:12:37,577] Trial 21 finished with value: 0.13511071220779325 and parameters: {'learning_rate': 0.1316402736263924, 'num_leaves': 69, 'max_depth': 5, 'min_data_in_leaf': 44, 'lambda_l1': 1.1549031905893637e-08, 'lambda_l2': 0.008764449422249796, 'feature_fraction': 0.9643059943653489}. Best is trial 21 with value: 0.13511071220779325.\n",
      "[I 2025-07-11 12:12:38,211] Trial 22 finished with value: 0.13512824545404478 and parameters: {'learning_rate': 0.12969089017628813, 'num_leaves': 69, 'max_depth': 5, 'min_data_in_leaf': 44, 'lambda_l1': 1.1468273309693748e-08, 'lambda_l2': 0.0017437336987376156, 'feature_fraction': 0.982341561835009}. Best is trial 21 with value: 0.13511071220779325.\n",
      "[I 2025-07-11 12:12:38,830] Trial 23 finished with value: 0.13512894285776478 and parameters: {'learning_rate': 0.13464383095054855, 'num_leaves': 55, 'max_depth': 5, 'min_data_in_leaf': 45, 'lambda_l1': 1.1244541862375928e-08, 'lambda_l2': 0.00212294476576077, 'feature_fraction': 0.9599141419658638}. Best is trial 21 with value: 0.13511071220779325.\n",
      "[I 2025-07-11 12:12:39,384] Trial 24 finished with value: 0.13517140244896392 and parameters: {'learning_rate': 0.13338399124966507, 'num_leaves': 68, 'max_depth': 4, 'min_data_in_leaf': 45, 'lambda_l1': 9.434621956856761e-08, 'lambda_l2': 5.7545465106871276e-05, 'feature_fraction': 0.8829551714054418}. Best is trial 21 with value: 0.13511071220779325.\n",
      "[I 2025-07-11 12:12:40,216] Trial 25 finished with value: 0.13635112671608976 and parameters: {'learning_rate': 0.19984484594928406, 'num_leaves': 32, 'max_depth': 5, 'min_data_in_leaf': 44, 'lambda_l1': 7.655051402932928e-08, 'lambda_l2': 0.03134806864054021, 'feature_fraction': 0.825887856204882}. Best is trial 21 with value: 0.13511071220779325.\n",
      "[I 2025-07-11 12:12:40,823] Trial 26 finished with value: 0.1351663385920711 and parameters: {'learning_rate': 0.12533334830736242, 'num_leaves': 72, 'max_depth': 4, 'min_data_in_leaf': 47, 'lambda_l1': 1.1644308583099488e-08, 'lambda_l2': 0.0025077935667150515, 'feature_fraction': 0.9332886829190641}. Best is trial 21 with value: 0.13511071220779325.\n",
      "[I 2025-07-11 12:12:41,333] Trial 27 finished with value: 0.13541925219203854 and parameters: {'learning_rate': 0.08878795015938551, 'num_leaves': 56, 'max_depth': 3, 'min_data_in_leaf': 42, 'lambda_l1': 2.213869337757346e-07, 'lambda_l2': 0.5940130076708426, 'feature_fraction': 0.9788709936149205}. Best is trial 21 with value: 0.13511071220779325.\n",
      "[I 2025-07-11 12:12:42,221] Trial 28 finished with value: 0.13518569480279818 and parameters: {'learning_rate': 0.12345957059194355, 'num_leaves': 63, 'max_depth': 6, 'min_data_in_leaf': 39, 'lambda_l1': 5.68260247671497e-06, 'lambda_l2': 8.067378388805742e-05, 'feature_fraction': 0.9053954879045104}. Best is trial 21 with value: 0.13511071220779325.\n",
      "[I 2025-07-11 12:12:42,958] Trial 29 finished with value: 0.1351580014546368 and parameters: {'learning_rate': 0.16791583400916105, 'num_leaves': 81, 'max_depth': 5, 'min_data_in_leaf': 48, 'lambda_l1': 4.924159201774603e-08, 'lambda_l2': 4.094850166201187e-06, 'feature_fraction': 0.9707261626089082}. Best is trial 21 with value: 0.13511071220779325.\n"
     ]
    },
    {
     "name": "stdout",
     "output_type": "stream",
     "text": [
      "Best parameters: {'learning_rate': 0.1316402736263924, 'num_leaves': 69, 'max_depth': 5, 'min_data_in_leaf': 44, 'lambda_l1': 1.1549031905893637e-08, 'lambda_l2': 0.008764449422249796, 'feature_fraction': 0.9643059943653489}\n"
     ]
    }
   ],
   "source": [
    "import warnings\n",
    "warnings.simplefilter(action='ignore', category=FutureWarning)\n",
    "\n",
    "\n",
    "def objective(trial):\n",
    "    # Set the parameters for LightGBM\n",
    "    param = {\n",
    "        \"objective\": \"regression\",  # Assuming a regression task\n",
    "        \"metric\": \"l2\",  # Mean squared error for regression\n",
    "        \"boosting_type\": \"gbdt\",\n",
    "        \"learning_rate\": trial.suggest_loguniform(\"learning_rate\", 0.01, 0.2),\n",
    "        \"num_leaves\": trial.suggest_int(\"num_leaves\", 20, 100),\n",
    "        \"max_depth\": trial.suggest_int(\"max_depth\", 3, 10),\n",
    "        \"min_data_in_leaf\": trial.suggest_int(\"min_data_in_leaf\", 10, 50),\n",
    "        \"lambda_l1\": trial.suggest_loguniform(\"lambda_l1\", 1e-8, 10.0),\n",
    "        \"lambda_l2\": trial.suggest_loguniform(\"lambda_l2\", 1e-8, 10.0),\n",
    "        \"feature_fraction\": trial.suggest_uniform(\"feature_fraction\", 0.6, 1.0),\n",
    "        'verbose': -1,\n",
    "    }\n",
    "    \n",
    "    kf = KFold(n_splits=2, shuffle=True, random_state=1)\n",
    "    mse_scores = []\n",
    "\n",
    "    for train_idx, val_idx in kf.split(X_train):\n",
    "        X_tr, X_val = X_train.iloc[train_idx], X_train.iloc[val_idx]\n",
    "        y_tr, y_val = y_train.iloc[train_idx], y_train.iloc[val_idx]\n",
    "\n",
    "        # Create LightGBM datasets\n",
    "        train_data = lgb.Dataset(X_tr, label=y_tr)\n",
    "        val_data = lgb.Dataset(X_val, label=y_val, reference=train_data)\n",
    "\n",
    "        # Train the model\n",
    "        model = lgb.train(param, train_data, valid_sets=[val_data])\n",
    "\n",
    "        # Predict on validation set\n",
    "        y_pred = model.predict(X_val)\n",
    "\n",
    "        # Calculate MSE for the current fold\n",
    "        mse = np.sqrt(mean_squared_log_error(y_val, y_pred))\n",
    "        mse_scores.append(mse)\n",
    "\n",
    "    # Return the mean MSE over all folds\n",
    "    return np.mean(mse_scores)\n",
    "\n",
    "# Run Optuna\n",
    "study = op.create_study(direction=\"minimize\")\n",
    "study.optimize(objective, n_trials=30)\n",
    "\n",
    "# Get best hyperparameters\n",
    "best_params = study.best_params\n",
    "print(f\"Best parameters: {best_params}\")"
   ]
  },
  {
   "cell_type": "code",
   "execution_count": 20,
   "id": "e3819fbe",
   "metadata": {},
   "outputs": [
    {
     "data": {
      "text/plain": [
       "{'learning_rate': 0.1316402736263924,\n",
       " 'num_leaves': 69,\n",
       " 'max_depth': 5,\n",
       " 'min_data_in_leaf': 44,\n",
       " 'lambda_l1': 1.1549031905893637e-08,\n",
       " 'lambda_l2': 0.008764449422249796,\n",
       " 'feature_fraction': 0.9643059943653489}"
      ]
     },
     "execution_count": 20,
     "metadata": {},
     "output_type": "execute_result"
    }
   ],
   "source": [
    "best_params"
   ]
  },
  {
   "cell_type": "code",
   "execution_count": 21,
   "id": "23bedd21",
   "metadata": {},
   "outputs": [],
   "source": [
    "best_params = {\n",
    "    \"objective\": \"regression\",  # Assuming a regression task\n",
    "    \"metric\": \"l2\",  # Mean squared error for regression\n",
    "    \"boosting_type\": \"gbdt\",\n",
    "    'learning_rate': 0.1316402736263924,\n",
    " 'num_leaves': 69,\n",
    " 'max_depth': 5,\n",
    " 'min_data_in_leaf': 44,\n",
    " 'lambda_l1': 1.1549031905893637e-08,\n",
    " 'lambda_l2': 0.008764449422249796,\n",
    " 'feature_fraction': 0.9643059943653489}"
   ]
  },
  {
   "cell_type": "code",
   "execution_count": 22,
   "id": "de3b0425",
   "metadata": {},
   "outputs": [],
   "source": [
    "dtrain_full = lgb.Dataset(X_train, label=y_train)\n",
    "final_model = lgb.train(best_params, dtrain_full, num_boost_round=100)\n",
    "\n",
    "dtest = lgb.Dataset(X_test,label=y_test)\n",
    "y_pred_test = final_model.predict(X_test)"
   ]
  },
  {
   "cell_type": "code",
   "execution_count": 23,
   "id": "187fc589",
   "metadata": {},
   "outputs": [
    {
     "data": {
      "text/plain": [
       "0.13432879948243098"
      ]
     },
     "execution_count": 23,
     "metadata": {},
     "output_type": "execute_result"
    }
   ],
   "source": [
    "np.sqrt(mean_squared_log_error(y_test, y_pred_test))"
   ]
  },
  {
   "cell_type": "markdown",
   "id": "136336de",
   "metadata": {},
   "source": [
    "Let's see which features were more important to the model in order to predict the target."
   ]
  },
  {
   "cell_type": "code",
   "execution_count": 24,
   "id": "6e4ad626",
   "metadata": {},
   "outputs": [
    {
     "data": {
      "text/plain": [
       "<Axes: title={'center': 'Feature importance'}, xlabel='Feature importance', ylabel='Features'>"
      ]
     },
     "execution_count": 24,
     "metadata": {},
     "output_type": "execute_result"
    },
    {
     "data": {
      "image/png": "[encoded data removed]",
      "text/plain": [
       "<Figure size 640x480 with 1 Axes>"
      ]
     },
     "metadata": {},
     "output_type": "display_data"
    }
   ],
   "source": [
    "lgb.plot_importance(final_model, max_num_features=10)"
   ]
  },
  {
   "cell_type": "markdown",
   "id": "c8b6a806",
   "metadata": {},
   "source": [
    "Notice the difference on the correlation matrix, where the duration of the workout actually had more correlation with the calories expended."
   ]
  },
  {
   "cell_type": "markdown",
   "id": "01d75a17",
   "metadata": {},
   "source": [
    "That's it for this project, thank you for reading!\n",
    "Fernán ZL"
   ]
  }
 ],
 "metadata": {
  "kernelspec": {
   "display_name": "base",
   "language": "python",
   "name": "python3"
  },
  "language_info": {
   "codemirror_mode": {
    "name": "ipython",
    "version": 3
   },
   "file_extension": ".py",
   "mimetype": "text/x-python",
   "name": "python",
   "nbconvert_exporter": "python",
   "pygments_lexer": "ipython3",
   "version": "3.10.9"
  }
 },
 "nbformat": 4,
 "nbformat_minor": 5
}
